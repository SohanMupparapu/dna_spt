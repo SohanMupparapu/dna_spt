version https://git-lfs.github.com/spec/v1
oid sha256:3c66eb65e873616440fb7a9e033d609cdbbad5e6278133f2abfb1090aba7dff1
size 574533
